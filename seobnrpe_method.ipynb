{
 "cells": [
  {
   "cell_type": "code",
   "execution_count": 1,
   "id": "b3ced5e1-eb4c-4f4a-aca2-ba2109f89f48",
   "metadata": {},
   "outputs": [
    {
     "name": "stderr",
     "output_type": "stream",
     "text": [
      "/home/ben.patterson/.conda/envs/igwn_eccentric/lib/python3.10/site-packages/pycbc/types/array.py:36: UserWarning: Wswiglal-redir-stdio:\n",
      "\n",
      "SWIGLAL standard output/error redirection is enabled in IPython.\n",
      "This may lead to performance penalties. To disable locally, use:\n",
      "\n",
      "with lal.no_swig_redirect_standard_output_error():\n",
      "    ...\n",
      "\n",
      "To disable globally, use:\n",
      "\n",
      "lal.swig_redirect_standard_output_error(False)\n",
      "\n",
      "Note however that this will likely lead to error messages from\n",
      "LAL functions being either misdirected or lost when called from\n",
      "Jupyter notebooks.\n",
      "\n",
      "To suppress this warning, use:\n",
      "\n",
      "import warnings\n",
      "warnings.filterwarnings(\"ignore\", \"Wswiglal-redir-stdio\")\n",
      "import lal\n",
      "\n",
      "  import lal as _lal\n"
     ]
    },
    {
     "name": "stdout",
     "output_type": "stream",
     "text": [
      "lal.MSUN_SI != Msun\n",
      "__name__ = gwsurrogate.new.spline_evaluation\n",
      "__package__= gwsurrogate.new\n"
     ]
    }
   ],
   "source": [
    "import json\n",
    "import numpy as np\n",
    "import matplotlib.pyplot as plt\n",
    "from pycbc.types import timeseries\n",
    "from calcwf import *"
   ]
  },
  {
   "cell_type": "markdown",
   "id": "a517f085-6d24-4811-abc6-6589b6deb249",
   "metadata": {
    "jp-MarkdownHeadingCollapsed": true
   },
   "source": [
    "# Calculating harmonics"
   ]
  },
  {
   "cell_type": "code",
   "execution_count": 4,
   "id": "3892bd20-578d-4238-944b-b6006bf9bb25",
   "metadata": {},
   "outputs": [],
   "source": [
    "# Path names to waveforms\n",
    "waveform_dir = '/home/isobel.romero-shaw/public_html/PYCENTRICITY/pycentricity-plus-precession/ben_project/'\n",
    "harmonic_basis_paths = [waveform_dir+f'harmonic_wf_{index}.txt' for index in [10, *np.arange(9)]]"
   ]
  },
  {
   "cell_type": "code",
   "execution_count": 3,
   "id": "6a66428d-17b2-4fe5-b59e-38af57094445",
   "metadata": {},
   "outputs": [],
   "source": [
    "# Create pycbc timeseries of waveforms with initial data cut to enforce same size/same merger time\n",
    "def load_comp_wfs():\n",
    "    harmonic_basis = []\n",
    "    harmonic_basis_raw = [np.loadtxt(path, delimiter=',') for path in harmonic_basis_paths]\n",
    "    min_len = np.min([len(raw_wf) for raw_wf in harmonic_basis_raw])\n",
    "    for raw_wf in harmonic_basis_raw:\n",
    "        t = raw_wf[-min_len:,0]\n",
    "        hp = raw_wf[-min_len:,1]\n",
    "        hc = raw_wf[-min_len:,2]\n",
    "        h = timeseries.TimeSeries(hp - 1j*hc, 1/round(1/np.mean(np.diff(t))), epoch=0)\n",
    "        harmonic_basis.append(h)\n",
    "    return harmonic_basis"
   ]
  },
  {
   "cell_type": "code",
   "execution_count": 7,
   "id": "2b1bcec9-21b4-4288-aacb-82ea4fc97af4",
   "metadata": {},
   "outputs": [],
   "source": [
    "# Get component waveforms for basis \n",
    "# Will use this function in edited get_h() to get harmonics\n",
    "def gen_component_wfs_seobnrpe(f_low, e, M, q, n, sample_rate, approximant, normalisation, phase, f_match):\n",
    "\n",
    "    # Make sure chosen parameters are those used to generate these component waveforms\n",
    "    assert f_low == 10\n",
    "    assert e == 0.073\n",
    "    assert q == 2\n",
    "    assert M == chirp2total(23.97979764, 2)\n",
    "    assert n == 10\n",
    "    assert sample_rate == 2048\n",
    "    assert phase == 0\n",
    "    \n",
    "    # Load in all component waveforms\n",
    "    comp_wfs = load_comp_wfs()\n",
    "\n",
    "    # Taper all waveforms\n",
    "    comp_wfs = [taper_wf(h) for h in comp_wfs]\n",
    "\n",
    "    # Correct phase of all beyond first\n",
    "    overlaps = [overlap_cplx_wfs(h, comp_wfs[0], f_low, f_match=f_match) for h in comp_wfs[1:]]\n",
    "    phase_angles = -np.angle(overlaps)/2\n",
    "    comp_wfs[1:] = [comp_wfs[i+1]*np.exp(2*1j*phase_angles[i]) for i in range(9)]\n",
    "\n",
    "    # Normalise if requested\n",
    "    if normalisation:\n",
    "\n",
    "        # Get normalisation from first waveform\n",
    "        h.resize(ceiltwo(len(h))) \n",
    "        psd = gen_psd(h, f_low)\n",
    "        sigma_0 = sigma(h.real(), psd=psd, low_frequency_cutoff=f_match)\n",
    "\n",
    "        # Normalise subsequent waveforms\n",
    "        sigma_hs = [sigma(h.real(), psd=psd, low_frequency_cutoff=f_match) for h in comp_wfs]\n",
    "        comp_wfs[1:] = [comp_wfs[i+1]*sigma_0/sigma_h[i] for i in range(9)]\n",
    "        \n",
    "    return comp_wfs\n",
    "\n",
    "# Edited get_h() to call above component wf function\n",
    "def get_h_seobnrpe(coeffs, f_low, e, M, q, sample_rate, approximant='SEOBNRPE', f_match=20, subsample_interpolation=True, \n",
    "                   GS_normalisation=True, comp_normalisation=False, comp_phase=0, return_ovlps=False):\n",
    "    \"\"\"\n",
    "    Generates a overall h waveform, h_1,...h_n, and s_1,...,s_n.\n",
    "\n",
    "    Parameters:\n",
    "        coeffs: List containing coefficients of h_1,...,h_n.\n",
    "        f_low: Starting frequency.\n",
    "        e: Eccentricity.\n",
    "        M: Total mass.\n",
    "        q: Mass ratio.\n",
    "        sample_rate: Sample rate of waveform.\n",
    "        approximant: Approximant to use.\n",
    "        f_match: Low frequency cutoff to use.\n",
    "        subsample_interpolation: Whether to use subsample interpolation.\n",
    "        GS_normalisation: Whether to perform Grant-Schmidt orthogonalisaton to ensure (hj|hm) = 0 for j!=m.\n",
    "        comp_normalisation: Whether to normalise s_1,...,s_n components to ensure (sj|sj) is constant.\n",
    "        comp_phase: Initial phase of s_1,...,s_n components.\n",
    "        return_ovlps: Whether to return overlaps between all unorthogonalised harmonics.\n",
    "        \n",
    "    Returns:\n",
    "        All waveform components and combinations: h, h1, ..., h_n, s_1, ..., s_n\n",
    "    \"\"\"\n",
    "\n",
    "    # Other approximants are deprecated\n",
    "    assert approximant == 'SEOBNRPE'\n",
    "\n",
    "    # Gets (normalised) components which make up overall waveform\n",
    "    component_wfs = gen_component_wfs_seobnrpe(f_low, e, M, q, len(coeffs), sample_rate, approximant, comp_normalisation, comp_phase, f_match)\n",
    "\n",
    "    # Calculate overall waveform and components in time domain\n",
    "    wfs, ovlps, ovlps_perp = get_h_TD(f_low, coeffs, component_wfs, GS_normalisation, f_match, return_ovlps=return_ovlps)\n",
    "\n",
    "    if return_ovlps:\n",
    "        return wfs, ovlps, ovlps_perp\n",
    "    else:    \n",
    "        return wfs"
   ]
  },
  {
   "cell_type": "code",
   "execution_count": 5,
   "id": "c14bc734-e72f-400f-b7e2-6904589ed0f5",
   "metadata": {},
   "outputs": [],
   "source": [
    "# Generate harmonics\n",
    "all_wfs = get_h_seobnrpe([1]*10, 10, 0.073, chirp2total(23.97979764, 2), 2, 2048)\n",
    "h_wfs = all_wfs[1:11]"
   ]
  },
  {
   "cell_type": "markdown",
   "id": "5d42e289-4272-4571-b257-1d77274217ad",
   "metadata": {},
   "source": [
    "# Formatting of trial waveforms"
   ]
  },
  {
   "cell_type": "code",
   "execution_count": 11,
   "id": "50d6dc18-93c7-4191-8f10-5ba61510331f",
   "metadata": {},
   "outputs": [],
   "source": [
    "# Load json of trial waveforms\n",
    "def load_trial_wfs(path):\n",
    "\n",
    "    # Loads in with 'raw' formatting\n",
    "    with open(path) as f:\n",
    "        raw_wfs = json.load(f)\n",
    "\n",
    "    print(np.shape(raw_wfs['wfs']))"
   ]
  },
  {
   "cell_type": "code",
   "execution_count": 12,
   "id": "3cee8cdc-109f-4ed6-b01b-af3ffce90587",
   "metadata": {},
   "outputs": [
    {
     "name": "stdout",
     "output_type": "stream",
     "text": [
      "(32,)\n"
     ]
    }
   ],
   "source": [
    "trial_wfs = load_trial_wfs(waveform_dir+'trial_wfs.json')"
   ]
  },
  {
   "cell_type": "markdown",
   "id": "28f7d133-cdef-4980-b66e-587c823fec01",
   "metadata": {},
   "source": [
    "# Calculating matches"
   ]
  },
  {
   "cell_type": "markdown",
   "id": "a90f8210-285e-43f8-97a7-83f6a84afd09",
   "metadata": {},
   "source": [
    "# Estimating eccentricity"
   ]
  },
  {
   "cell_type": "code",
   "execution_count": null,
   "id": "095ca6f0-b4c8-466f-85e7-715a62dbf7b5",
   "metadata": {},
   "outputs": [],
   "source": []
  }
 ],
 "metadata": {
  "kernelspec": {
   "display_name": "igwn_eccentric",
   "language": "python",
   "name": "igwn_eccentric"
  },
  "language_info": {
   "codemirror_mode": {
    "name": "ipython",
    "version": 3
   },
   "file_extension": ".py",
   "mimetype": "text/x-python",
   "name": "python",
   "nbconvert_exporter": "python",
   "pygments_lexer": "ipython3",
   "version": "3.10.14"
  }
 },
 "nbformat": 4,
 "nbformat_minor": 5
}
