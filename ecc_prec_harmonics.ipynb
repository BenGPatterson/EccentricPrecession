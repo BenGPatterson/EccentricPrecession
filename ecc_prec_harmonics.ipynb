{
 "cells": [
  {
   "cell_type": "code",
   "execution_count": 53,
   "id": "cc34f797-1e08-4e0f-a42f-1e771ed2d80c",
   "metadata": {},
   "outputs": [],
   "source": [
    "import numpy as np\n",
    "import matplotlib.pyplot as plt\n",
    "from pycbc.waveform import get_td_waveform\n",
    "from bilby.gw.conversion import total_mass_and_mass_ratio_to_component_masses, bilby_to_lalsimulation_spins as spin_convert\n",
    "from pesummary.gw.conversions.spins import opening_angle\n",
    "from pesummary.gw.conversions.angles import _dpsi, _dphi\n",
    "from calcwf import *"
   ]
  },
  {
   "cell_type": "code",
   "execution_count": 28,
   "id": "45851910-62fe-4738-a7ab-8349832460c7",
   "metadata": {},
   "outputs": [],
   "source": [
    "hp, hc = gen_prec_wf_fd(10, 60, 2, 0, 0, 0, 0, np.pi/2, np.pi/2, np.pi/2, 0.7, 1)"
   ]
  },
  {
   "cell_type": "code",
   "execution_count": 31,
   "id": "881aef0f-6f42-4faf-b5ab-08cc25b5cff2",
   "metadata": {},
   "outputs": [
    {
     "data": {
      "text/plain": [
       "(-1.0550700059555993e-22+1.0035323666447363e-22j)"
      ]
     },
     "execution_count": 31,
     "metadata": {},
     "output_type": "execute_result"
    }
   ],
   "source": [
    "hp[123123]*1j"
   ]
  },
  {
   "cell_type": "code",
   "execution_count": 32,
   "id": "9f1c8d39-4aaa-48dc-b616-ceaadb8d701f",
   "metadata": {},
   "outputs": [
    {
     "data": {
      "text/plain": [
       "(1.0728614527832333e-22-1.0176707960353981e-22j)"
      ]
     },
     "execution_count": 32,
     "metadata": {},
     "output_type": "execute_result"
    }
   ],
   "source": [
    "hc[123123]"
   ]
  },
  {
   "cell_type": "code",
   "execution_count": 91,
   "id": "2ae896ac-680f-4f5d-bbee-247639268228",
   "metadata": {},
   "outputs": [],
   "source": [
    "# Generate a precessing waveform in frequency domain\n",
    "def gen_prec_wf_fd(f_low, M, q, theta_jn, phi_jl, phase, psi, tilt_1, tilt_2, phi_12, a_1, a_2, approximant='IMRPhenomXP', sample_rate=4096, delta_f=1/256, apply_detector_response=True):\n",
    "\n",
    "    # Convert parameters\n",
    "    mass_1, mass_2 = total_mass_and_mass_ratio_to_component_masses(1/q, M)\n",
    "    iota, spin_1x, spin_1y, spin_1z, spin_2x, spin_2y, spin_2z = spin_convert(theta_jn, phi_jl, tilt_1, tilt_2, phi_12, a_1, a_2, mass_1, mass_2, f_low, phase)\n",
    "\n",
    "    # Generate waveform\n",
    "    hp, hc = get_fd_waveform(approximant=approximant, \n",
    "                             mass1=mass_1,\n",
    "                             mass2=mass_2,\n",
    "                             f_lower=f_low,\n",
    "                             f_final=sample_rate/2,\n",
    "                             delta_f=delta_f,\n",
    "                             inclination=iota,\n",
    "                             spin1x=spin_1x,\n",
    "                             spin1y=spin_1y,\n",
    "                             spin1z=spin_1z,\n",
    "                             spin2x=spin_2x,\n",
    "                             spin2y=spin_2y,\n",
    "                             spin2z=spin_2z,\n",
    "                             coa_phase=phase)\n",
    "\n",
    "    # Apply effective detector response\n",
    "    if apply_detector_response:\n",
    "        beta = opening_angle(mass_1, mass_2, phi_jl, tilt_1, tilt_2, phi_12, a_1, a_2, f_low, phase)\n",
    "        dpsi = _dpsi(theta_jn, phi_jl, beta)\n",
    "        fp = np.cos(2 * (psi - dpsi))\n",
    "        fc = -1. * np.sin(2 * (psi - dpsi))\n",
    "        h = (fp * hp + fc * hc)\n",
    "        h *= np.exp(2j * _dphi(theta_jn, phi_jl, beta))\n",
    "    else:\n",
    "        h = hp\n",
    "\n",
    "    return h\n",
    "\n",
    "# Generate a precessing waveform in time domain from frequency domain\n",
    "def gen_prec_wf_td_from_fd(f_low, M, q, theta_jn, phi_jl, phase, psi, tilt_1, tilt_2, phi_12, a_1, a_2, approximant='IMRPhenomXP', sample_rate=4096, delta_f=1/256, apply_detector_response=True):\n",
    "\n",
    "    # Generate in frequency domain\n",
    "    h_fd = gen_prec_wf_fd(f_low, M, q, theta_jn, phi_jl, phase, psi, tilt_1, tilt_2, phi_12, a_1, a_2, \n",
    "                          approximant=approximant, sample_rate=sample_rate, delta_f=delta_f, apply_detector_response=apply_detector_response)\n",
    "\n",
    "    # Convert to (complex) time domain\n",
    "    h0 = h_fd.to_timeseries()\n",
    "    h0 = timeseries.TimeSeries(h0, delta_t=h0.delta_t, epoch=h0.sample_times[0], dtype=np.complex128)\n",
    "    hpi2 = (1j*h_fd).to_timeseries()\n",
    "    hpi2 = timeseries.TimeSeries(hpi2, delta_t=hpi2.delta_t, epoch=hpi2.sample_times[0], dtype=np.complex128)\n",
    "    h = h0+1j*hpi2\n",
    "\n",
    "    return h0+1j*hpi2\n",
    "\n",
    "# Generate a precessing waveform in time domain\n",
    "def gen_prec_wf_td(f_low, M, q, theta_jn, phi_jl, phase, psi, tilt_1, tilt_2, phi_12, a_1, a_2, approximant='IMRPhenomXP', sample_rate=4096):\n",
    "\n",
    "    # Convert parameters\n",
    "    mass_1, mass_2 = total_mass_and_mass_ratio_to_component_masses(1/q, M)\n",
    "    iota, spin_1x, spin_1y, spin_1z, spin_2x, spin_2y, spin_2z = spin_convert(theta_jn, phi_jl, tilt_1, tilt_2, phi_12, a_1, a_2, mass_1, mass_2, f_low, phase)\n",
    "\n",
    "    # Generate waveform\n",
    "    hp, hc = get_td_waveform(approximant=approximant, \n",
    "                             mass1=mass_1,\n",
    "                             mass2=mass_2,\n",
    "                             f_lower=f_low,\n",
    "                             delta_t=1/sample_rate,\n",
    "                             inclination=iota,\n",
    "                             spin1x=spin_1x,\n",
    "                             spin1y=spin_1y,\n",
    "                             spin1z=spin_1z,\n",
    "                             spin2x=spin_2x,\n",
    "                             spin2y=spin_2y,\n",
    "                             spin2z=spin_2z,\n",
    "                             coa_phase=phase)\n",
    "    \n",
    "    return hp - 1j*hc"
   ]
  },
  {
   "cell_type": "code",
   "execution_count": 150,
   "id": "33c901da-37f6-421b-96d2-9c29539bfe9d",
   "metadata": {},
   "outputs": [],
   "source": [
    "def gen_prec_wf(f_low, M, q, theta_jn, phi_jl, phase, psi, tilt_1, tilt_2, phi_12, a_1, a_2, approximant='IMRPhenomXP', sample_rate=4096, apply_detector_response=True):\n",
    "\n",
    "    # Convert parameters\n",
    "    mass_1, mass_2 = total_mass_and_mass_ratio_to_component_masses(1/q, M)\n",
    "    iota, spin_1x, spin_1y, spin_1z, spin_2x, spin_2y, spin_2z = spin_convert(theta_jn, phi_jl, tilt_1, tilt_2, phi_12, a_1, a_2, mass_1, mass_2, f_low, phase)\n",
    "\n",
    "    # Generate waveform\n",
    "    hp, hc = get_td_waveform(approximant=approximant, \n",
    "                             mass1=mass_1,\n",
    "                             mass2=mass_2,\n",
    "                             f_lower=f_low,\n",
    "                             delta_t=1/sample_rate,\n",
    "                             inclination=iota,\n",
    "                             spin1x=spin_1x,\n",
    "                             spin1y=spin_1y,\n",
    "                             spin1z=spin_1z,\n",
    "                             spin2x=spin_2x,\n",
    "                             spin2y=spin_2y,\n",
    "                             spin2z=spin_2z,\n",
    "                             coa_phase=phase)\n",
    "\n",
    "    # Apply effective detector response if requested\n",
    "    if apply_detector_response:\n",
    "        beta = opening_angle(mass_1, mass_2, phi_jl, tilt_1, tilt_2, phi_12, a_1, a_2, f_low, phase)\n",
    "        dpsi = _dpsi(theta_jn, phi_jl, beta)\n",
    "        dphi = _dphi(theta_jn, phi_jl, beta)\n",
    "        fp = np.cos(2 * (psi - dpsi))\n",
    "        fc = -1. * np.sin(2 * (psi - dpsi))\n",
    "        hr = (fp * hp + fc * hc)\n",
    "        hi = (fp * hc - fc * hp)\n",
    "        h = hr - 1j*hi\n",
    "        h *= np.exp(-2j * dphi)\n",
    "    else:\n",
    "        h = hp - 1j*hc\n",
    "\n",
    "    return h"
   ]
  },
  {
   "cell_type": "code",
   "execution_count": 159,
   "id": "d842721d-ea7f-4b5a-8e77-4c5ddf6a1b5e",
   "metadata": {},
   "outputs": [],
   "source": [
    "# Make precessing harmonics\n",
    "def gen_prec_harms(f_low, M, q, tilt_1, tilt_2, phi_12, a_1, a_2, harmonics=[0,1,2,3,4], approximant='IMRPhenomXP', sample_rate=4096):\n",
    "\n",
    "    # Generate constituent waveforms\n",
    "    if 0 in harmonics or 4 in harmonics:\n",
    "        x_0_0_0_0 = gen_prec_wf(f_low, M, q, 0, 0, 0, 0, tilt_1, tilt_2, phi_12, a_1, a_2, approximant=approximant, sample_rate=sample_rate)\n",
    "        x_0_0_pi4_pi4 = gen_prec_wf(f_low, M, q, 0, 0, np.pi/4, np.pi/4, tilt_1, tilt_2, phi_12, a_1, a_2, approximant=approximant, sample_rate=sample_rate)\n",
    "    if 1 in harmonics or 3 in harmonics:\n",
    "        x_pi2_0_pi4_pi4 = gen_prec_wf(f_low, M, q, np.pi/2, 0, np.pi/4, np.pi/4, tilt_1, tilt_2, phi_12, a_1, a_2, approximant=approximant, sample_rate=sample_rate)\n",
    "        x_pi2_pi2_0_pi4 = gen_prec_wf(f_low, M, q, np.pi/2, np.pi/2, 0, np.pi/4, tilt_1, tilt_2, phi_12, a_1, a_2, approximant=approximant, sample_rate=sample_rate)\n",
    "    if 2 in harmonics:\n",
    "        x_pi2_0_0_0 = gen_prec_wf(f_low, M, q, np.pi/2, 0, 0, 0, tilt_1, tilt_2, phi_12, a_1, a_2, approximant=approximant, sample_rate=sample_rate)\n",
    "        x_pi2_pi2_0_0 = gen_prec_wf(f_low, M, q, np.pi/2, np.pi/2, 0, 0, tilt_1, tilt_2, phi_12, a_1, a_2, approximant=approximant, sample_rate=sample_rate)\n",
    "\n",
    "    # Above uses six waveforms - can this be simplified to five?\n",
    "\n",
    "    # Combine to make _0 harmonics\n",
    "    harms = []\n",
    "    if 0 in harmonics:\n",
    "        harms.append((1/2)*(x_0_0_0_0-x_0_0_pi4_pi4))\n",
    "    if 1 in harmonics or 3 in harmonics:\n",
    "        harms.append(-(1/4)*(x_pi2_0_pi4_pi4+x_pi2_pi2_0_pi4))\n",
    "    if 2 in harmonics:\n",
    "        harms.append((1/6)*(x_pi2_0_0_0+x_pi2_pi2_0_0))\n",
    "    if 3 in harmonics:\n",
    "        harms.append(-(1/4)*(x_pi2_0_pi4_pi4-x_pi2_pi2_0_pi4))\n",
    "    if 4 in harmonics:\n",
    "        harms.append((1/2)*(x_0_0_0_0+x_0_0_pi4_pi4))\n",
    "\n",
    "    return harms"
   ]
  },
  {
   "cell_type": "code",
   "execution_count": 206,
   "id": "4449215a-61ac-4633-bcb7-dd332ae3e471",
   "metadata": {},
   "outputs": [
    {
     "name": "stdout",
     "output_type": "stream",
     "text": [
      "0 0 1.0\n",
      "\n",
      "\n",
      "1 0 0.20999436518830605\n",
      "1 1 1.0\n",
      "\n",
      "\n",
      "2 0 0.03431966921998534\n",
      "2 1 0.36254676902322774\n",
      "2 2 1.0\n",
      "\n",
      "\n",
      "3 0 0.9941975714558264\n",
      "3 1 0.24302752480734635\n",
      "3 2 0.027762727863031987\n",
      "3 3 1.0\n",
      "\n",
      "\n",
      "4 0 0.09546530802830036\n",
      "4 1 0.18071545482217916\n",
      "4 2 0.6780177803978659\n",
      "4 3 0.0480708446485833\n",
      "4 4 1.0\n",
      "\n",
      "\n"
     ]
    }
   ],
   "source": [
    "# Get harmonics\n",
    "harms = gen_prec_harms_fd(20, 30, 2, np.pi/2, np.pi/2, np.pi/2, 0.7, 0)\n",
    "\n",
    "# Compute orthogonality\n",
    "for i in range(len(harms)):\n",
    "    for j in range(i+1):\n",
    "        print(i, j, np.abs(overlap_cplx_wfs(harms[i], harms[j], 20, f_match=20, normalized=True)))\n",
    "    print('\\n')"
   ]
  },
  {
   "cell_type": "code",
   "execution_count": 50,
   "id": "3aabfd21-3f67-46c4-942e-1c850b3393ab",
   "metadata": {},
   "outputs": [],
   "source": [
    "from pesummary.gw.conversions.snr import _calculate_precessing_harmonics, _make_waveform\n",
    "from pesummary.gw.conversions.spins import opening_angle\n",
    "from pycbc.filter import match\n",
    "from pycbc.types import timeseries"
   ]
  },
  {
   "cell_type": "code",
   "execution_count": 21,
   "id": "6b82a77c-37ef-4bfe-a7c4-d8b8c40ff6ba",
   "metadata": {},
   "outputs": [
    {
     "data": {
      "text/plain": [
       "(253.0, 253.5)"
      ]
     },
     "execution_count": 21,
     "metadata": {},
     "output_type": "execute_result"
    },
    {
     "data": {
      "image/png": "[encoded data removed]",
      "text/plain": [
       "<Figure size 640x480 with 1 Axes>"
      ]
     },
     "metadata": {},
     "output_type": "display_data"
    }
   ],
   "source": [
    "h = _make_waveform(\"IMRPhenomPv2\", 0.76345435, 1.23536234, 2.823454, 3.8345, 20, 10, np.pi/2, np.pi/2, np.pi/2, 0.7, 0, 0, 1, apply_detector_response=True)\n",
    "h0 = h.to_timeseries()\n",
    "h0 = timeseries.TimeSeries(h0, delta_t=h0.delta_t, epoch=0, dtype=np.complex128)\n",
    "ih = 1j*h\n",
    "hpi2 = ih.to_timeseries()\n",
    "hpi2 = timeseries.TimeSeries(hpi2, delta_t=hpi2.delta_t, epoch=0, dtype=np.complex128)\n",
    "h = h0+1j*hpi2\n",
    "\n",
    "plt.plot(h.sample_times, h)\n",
    "plt.plot(h.sample_times, np.abs(h), ls='dashed', c='k', alpha=0.7)\n",
    "plt.plot(h.sample_times, -np.abs(h), ls='dashed', c='k', alpha=0.7)\n",
    "plt.plot(h.imag().sample_times, h.imag())\n",
    "plt.xlim(253,253.5)"
   ]
  },
  {
   "cell_type": "code",
   "execution_count": 204,
   "id": "6e32ba1e-9839-4648-b14a-305c68d8b1d5",
   "metadata": {},
   "outputs": [
    {
     "name": "stdout",
     "output_type": "stream",
     "text": [
      "0 0 1.0\n",
      "\n",
      "\n",
      "1 0 0.0571311216188576\n",
      "1 1 1.0\n",
      "\n",
      "\n",
      "2 0 0.05551949144119885\n",
      "2 1 0.09051091723001596\n",
      "2 2 0.9999999999999998\n",
      "\n",
      "\n",
      "3 0 0.046611443919037626\n",
      "3 1 0.07422390393078732\n",
      "3 2 0.13502421077147356\n",
      "3 3 0.9999999999999999\n",
      "\n",
      "\n",
      "4 0 0.03898836595773121\n",
      "4 1 0.06046892000503533\n",
      "4 2 0.09658590766139541\n",
      "4 3 0.18822269760773988\n",
      "4 4 1.0\n",
      "\n",
      "\n"
     ]
    }
   ],
   "source": [
    "# Get harmonics\n",
    "beta = opening_angle(20, 10, 0, np.pi/2, np.pi/2, np.pi/2, 0.7, 0, 20, 0)\n",
    "harms = _calculate_precessing_harmonics(20, 10, 0.7, 0,  np.pi/2, np.pi/2, np.pi/2, beta, 1, harmonics=[0,1,2,3,4])\n",
    "psd = aLIGOZeroDetHighPower(len(harms[0]), harms[0].delta_f, 20)\n",
    "\n",
    "# Check orthogonality\n",
    "for i in range(len(harms)):\n",
    "    for j in range(i+1):\n",
    "        print(i, j, np.abs(overlap_cplx(harms[i], harms[j], psd=psd, low_frequency_cutoff=20)))\n",
    "    print('\\n')"
   ]
  },
  {
   "cell_type": "code",
   "execution_count": null,
   "id": "16cbc982-8b59-4162-b9c4-4a78865572ef",
   "metadata": {},
   "outputs": [],
   "source": []
  }
 ],
 "metadata": {
  "kernelspec": {
   "display_name": "igwn_eccentric",
   "language": "python",
   "name": "igwn_eccentric"
  },
  "language_info": {
   "codemirror_mode": {
    "name": "ipython",
    "version": 3
   },
   "file_extension": ".py",
   "mimetype": "text/x-python",
   "name": "python",
   "nbconvert_exporter": "python",
   "pygments_lexer": "ipython3",
   "version": "3.10.14"
  }
 },
 "nbformat": 4,
 "nbformat_minor": 5
}
